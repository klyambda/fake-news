{
  "nbformat": 4,
  "nbformat_minor": 0,
  "metadata": {
    "colab": {
      "name": "FN_Classification.ipynb",
      "provenance": [],
      "collapsed_sections": []
    },
    "kernelspec": {
      "name": "python3",
      "display_name": "Python 3"
    },
    "language_info": {
      "name": "python"
    }
  },
  "cells": [
    {
      "cell_type": "markdown",
      "source": [
        "Разработать модель машинного обучения, способный классифицировать статьи на реальные и фейковые."
      ],
      "metadata": {
        "id": "l9aJN49naKFd"
      }
    },
    {
      "cell_type": "code",
      "execution_count": 1,
      "metadata": {
        "id": "hk_eJuXdNRHX"
      },
      "outputs": [],
      "source": [
        "import numpy as np\n",
        "import pandas as pd\n",
        "import matplotlib.pyplot as plt\n",
        "import seaborn as sns\n",
        "import sklearn\n",
        "import re\n",
        "\n",
        "from sklearn.model_selection import train_test_split\n",
        "from sklearn.feature_extraction.text import TfidfVectorizer\n",
        "from sklearn.feature_extraction.text import CountVectorizer\n",
        "\n",
        "from sklearn.linear_model import LogisticRegression\n",
        "from sklearn.naive_bayes import MultinomialNB\n",
        "from sklearn.linear_model import PassiveAggressiveClassifier\n",
        "\n",
        "from sklearn import metrics"
      ]
    },
    {
      "cell_type": "code",
      "source": [
        "!git clone https://github.com/klyambda/fake-news.git"
      ],
      "metadata": {
        "colab": {
          "base_uri": "https://localhost:8080/"
        },
        "id": "rVFF9pIzXy71",
        "outputId": "a46360a6-5b92-4c20-ca83-85f77c1dcdd6"
      },
      "execution_count": 25,
      "outputs": [
        {
          "output_type": "stream",
          "name": "stdout",
          "text": [
            "fatal: destination path 'fake-news' already exists and is not an empty directory.\n"
          ]
        }
      ]
    },
    {
      "cell_type": "markdown",
      "source": [
        "### Импортируем датасет и посмотрим на наши данные."
      ],
      "metadata": {
        "id": "_XgffvMRaGFa"
      }
    },
    {
      "cell_type": "code",
      "source": [
        "train = pd.read_csv('fake-news/dataset/train.csv')\n",
        "test = pd.read_csv('fake-news/dataset/test.csv')\n",
        "submit = pd.read_csv('fake-news/dataset/submit.csv')\n",
        "\n",
        "print('train dataset shape: {}'.format(train.shape))\n",
        "print('test dataset shape: {}'.format(test.shape))\n",
        "print('submit shape: {}'.format(submit.shape))"
      ],
      "metadata": {
        "id": "tgQMPrV0NXBq",
        "colab": {
          "base_uri": "https://localhost:8080/"
        },
        "outputId": "0a039824-c48a-4a0f-8947-ba7ef61b2e3d"
      },
      "execution_count": 26,
      "outputs": [
        {
          "output_type": "stream",
          "name": "stdout",
          "text": [
            "train dataset shape: (20800, 5)\n",
            "test dataset shape: (5200, 4)\n",
            "submit shape: (5200, 2)\n"
          ]
        }
      ]
    },
    {
      "cell_type": "code",
      "source": [
        "train.head(10)"
      ],
      "metadata": {
        "id": "-GlOJlrSs6zN",
        "outputId": "f82ebdb7-47b2-4a84-f54c-bbdbd1de3a93",
        "colab": {
          "base_uri": "https://localhost:8080/",
          "height": 363
        }
      },
      "execution_count": 27,
      "outputs": [
        {
          "output_type": "execute_result",
          "data": {
            "text/html": [
              "\n",
              "  <div id=\"df-c3d6288c-a256-45c6-89ce-1755495eb494\">\n",
              "    <div class=\"colab-df-container\">\n",
              "      <div>\n",
              "<style scoped>\n",
              "    .dataframe tbody tr th:only-of-type {\n",
              "        vertical-align: middle;\n",
              "    }\n",
              "\n",
              "    .dataframe tbody tr th {\n",
              "        vertical-align: top;\n",
              "    }\n",
              "\n",
              "    .dataframe thead th {\n",
              "        text-align: right;\n",
              "    }\n",
              "</style>\n",
              "<table border=\"1\" class=\"dataframe\">\n",
              "  <thead>\n",
              "    <tr style=\"text-align: right;\">\n",
              "      <th></th>\n",
              "      <th>id</th>\n",
              "      <th>title</th>\n",
              "      <th>author</th>\n",
              "      <th>text</th>\n",
              "      <th>label</th>\n",
              "    </tr>\n",
              "  </thead>\n",
              "  <tbody>\n",
              "    <tr>\n",
              "      <th>0</th>\n",
              "      <td>0</td>\n",
              "      <td>House Dem Aide: We Didn’t Even See Comey’s Let...</td>\n",
              "      <td>Darrell Lucus</td>\n",
              "      <td>House Dem Aide: We Didn’t Even See Comey’s Let...</td>\n",
              "      <td>1</td>\n",
              "    </tr>\n",
              "    <tr>\n",
              "      <th>1</th>\n",
              "      <td>1</td>\n",
              "      <td>FLYNN: Hillary Clinton, Big Woman on Campus - ...</td>\n",
              "      <td>Daniel J. Flynn</td>\n",
              "      <td>Ever get the feeling your life circles the rou...</td>\n",
              "      <td>0</td>\n",
              "    </tr>\n",
              "    <tr>\n",
              "      <th>2</th>\n",
              "      <td>2</td>\n",
              "      <td>Why the Truth Might Get You Fired</td>\n",
              "      <td>Consortiumnews.com</td>\n",
              "      <td>Why the Truth Might Get You Fired October 29, ...</td>\n",
              "      <td>1</td>\n",
              "    </tr>\n",
              "    <tr>\n",
              "      <th>3</th>\n",
              "      <td>3</td>\n",
              "      <td>15 Civilians Killed In Single US Airstrike Hav...</td>\n",
              "      <td>Jessica Purkiss</td>\n",
              "      <td>Videos 15 Civilians Killed In Single US Airstr...</td>\n",
              "      <td>1</td>\n",
              "    </tr>\n",
              "    <tr>\n",
              "      <th>4</th>\n",
              "      <td>4</td>\n",
              "      <td>Iranian woman jailed for fictional unpublished...</td>\n",
              "      <td>Howard Portnoy</td>\n",
              "      <td>Print \\nAn Iranian woman has been sentenced to...</td>\n",
              "      <td>1</td>\n",
              "    </tr>\n",
              "    <tr>\n",
              "      <th>5</th>\n",
              "      <td>5</td>\n",
              "      <td>Jackie Mason: Hollywood Would Love Trump if He...</td>\n",
              "      <td>Daniel Nussbaum</td>\n",
              "      <td>In these trying times, Jackie Mason is the Voi...</td>\n",
              "      <td>0</td>\n",
              "    </tr>\n",
              "    <tr>\n",
              "      <th>6</th>\n",
              "      <td>6</td>\n",
              "      <td>Life: Life Of Luxury: Elton John’s 6 Favorite ...</td>\n",
              "      <td>NaN</td>\n",
              "      <td>Ever wonder how Britain’s most iconic pop pian...</td>\n",
              "      <td>1</td>\n",
              "    </tr>\n",
              "    <tr>\n",
              "      <th>7</th>\n",
              "      <td>7</td>\n",
              "      <td>Benoît Hamon Wins French Socialist Party’s Pre...</td>\n",
              "      <td>Alissa J. Rubin</td>\n",
              "      <td>PARIS  —   France chose an idealistic, traditi...</td>\n",
              "      <td>0</td>\n",
              "    </tr>\n",
              "    <tr>\n",
              "      <th>8</th>\n",
              "      <td>8</td>\n",
              "      <td>Excerpts From a Draft Script for Donald Trump’...</td>\n",
              "      <td>NaN</td>\n",
              "      <td>Donald J. Trump is scheduled to make a highly ...</td>\n",
              "      <td>0</td>\n",
              "    </tr>\n",
              "    <tr>\n",
              "      <th>9</th>\n",
              "      <td>9</td>\n",
              "      <td>A Back-Channel Plan for Ukraine and Russia, Co...</td>\n",
              "      <td>Megan Twohey and Scott Shane</td>\n",
              "      <td>A week before Michael T. Flynn resigned as nat...</td>\n",
              "      <td>0</td>\n",
              "    </tr>\n",
              "  </tbody>\n",
              "</table>\n",
              "</div>\n",
              "      <button class=\"colab-df-convert\" onclick=\"convertToInteractive('df-c3d6288c-a256-45c6-89ce-1755495eb494')\"\n",
              "              title=\"Convert this dataframe to an interactive table.\"\n",
              "              style=\"display:none;\">\n",
              "        \n",
              "  <svg xmlns=\"http://www.w3.org/2000/svg\" height=\"24px\"viewBox=\"0 0 24 24\"\n",
              "       width=\"24px\">\n",
              "    <path d=\"M0 0h24v24H0V0z\" fill=\"none\"/>\n",
              "    <path d=\"M18.56 5.44l.94 2.06.94-2.06 2.06-.94-2.06-.94-.94-2.06-.94 2.06-2.06.94zm-11 1L8.5 8.5l.94-2.06 2.06-.94-2.06-.94L8.5 2.5l-.94 2.06-2.06.94zm10 10l.94 2.06.94-2.06 2.06-.94-2.06-.94-.94-2.06-.94 2.06-2.06.94z\"/><path d=\"M17.41 7.96l-1.37-1.37c-.4-.4-.92-.59-1.43-.59-.52 0-1.04.2-1.43.59L10.3 9.45l-7.72 7.72c-.78.78-.78 2.05 0 2.83L4 21.41c.39.39.9.59 1.41.59.51 0 1.02-.2 1.41-.59l7.78-7.78 2.81-2.81c.8-.78.8-2.07 0-2.86zM5.41 20L4 18.59l7.72-7.72 1.47 1.35L5.41 20z\"/>\n",
              "  </svg>\n",
              "      </button>\n",
              "      \n",
              "  <style>\n",
              "    .colab-df-container {\n",
              "      display:flex;\n",
              "      flex-wrap:wrap;\n",
              "      gap: 12px;\n",
              "    }\n",
              "\n",
              "    .colab-df-convert {\n",
              "      background-color: #E8F0FE;\n",
              "      border: none;\n",
              "      border-radius: 50%;\n",
              "      cursor: pointer;\n",
              "      display: none;\n",
              "      fill: #1967D2;\n",
              "      height: 32px;\n",
              "      padding: 0 0 0 0;\n",
              "      width: 32px;\n",
              "    }\n",
              "\n",
              "    .colab-df-convert:hover {\n",
              "      background-color: #E2EBFA;\n",
              "      box-shadow: 0px 1px 2px rgba(60, 64, 67, 0.3), 0px 1px 3px 1px rgba(60, 64, 67, 0.15);\n",
              "      fill: #174EA6;\n",
              "    }\n",
              "\n",
              "    [theme=dark] .colab-df-convert {\n",
              "      background-color: #3B4455;\n",
              "      fill: #D2E3FC;\n",
              "    }\n",
              "\n",
              "    [theme=dark] .colab-df-convert:hover {\n",
              "      background-color: #434B5C;\n",
              "      box-shadow: 0px 1px 3px 1px rgba(0, 0, 0, 0.15);\n",
              "      filter: drop-shadow(0px 1px 2px rgba(0, 0, 0, 0.3));\n",
              "      fill: #FFFFFF;\n",
              "    }\n",
              "  </style>\n",
              "\n",
              "      <script>\n",
              "        const buttonEl =\n",
              "          document.querySelector('#df-c3d6288c-a256-45c6-89ce-1755495eb494 button.colab-df-convert');\n",
              "        buttonEl.style.display =\n",
              "          google.colab.kernel.accessAllowed ? 'block' : 'none';\n",
              "\n",
              "        async function convertToInteractive(key) {\n",
              "          const element = document.querySelector('#df-c3d6288c-a256-45c6-89ce-1755495eb494');\n",
              "          const dataTable =\n",
              "            await google.colab.kernel.invokeFunction('convertToInteractive',\n",
              "                                                     [key], {});\n",
              "          if (!dataTable) return;\n",
              "\n",
              "          const docLinkHtml = 'Like what you see? Visit the ' +\n",
              "            '<a target=\"_blank\" href=https://colab.research.google.com/notebooks/data_table.ipynb>data table notebook</a>'\n",
              "            + ' to learn more about interactive tables.';\n",
              "          element.innerHTML = '';\n",
              "          dataTable['output_type'] = 'display_data';\n",
              "          await google.colab.output.renderOutput(dataTable, element);\n",
              "          const docLink = document.createElement('div');\n",
              "          docLink.innerHTML = docLinkHtml;\n",
              "          element.appendChild(docLink);\n",
              "        }\n",
              "      </script>\n",
              "    </div>\n",
              "  </div>\n",
              "  "
            ],
            "text/plain": [
              "   id  ... label\n",
              "0   0  ...     1\n",
              "1   1  ...     0\n",
              "2   2  ...     1\n",
              "3   3  ...     1\n",
              "4   4  ...     1\n",
              "5   5  ...     0\n",
              "6   6  ...     1\n",
              "7   7  ...     0\n",
              "8   8  ...     0\n",
              "9   9  ...     0\n",
              "\n",
              "[10 rows x 5 columns]"
            ]
          },
          "metadata": {},
          "execution_count": 27
        }
      ]
    },
    {
      "cell_type": "code",
      "source": [
        "train.tail(5)"
      ],
      "metadata": {
        "id": "WnZKYFphdFzp",
        "outputId": "6ecb2506-8455-447a-d245-28d1bd96e466",
        "colab": {
          "base_uri": "https://localhost:8080/",
          "height": 206
        }
      },
      "execution_count": 28,
      "outputs": [
        {
          "output_type": "execute_result",
          "data": {
            "text/html": [
              "\n",
              "  <div id=\"df-ee91d842-6d22-4583-9dfb-f135823d58b1\">\n",
              "    <div class=\"colab-df-container\">\n",
              "      <div>\n",
              "<style scoped>\n",
              "    .dataframe tbody tr th:only-of-type {\n",
              "        vertical-align: middle;\n",
              "    }\n",
              "\n",
              "    .dataframe tbody tr th {\n",
              "        vertical-align: top;\n",
              "    }\n",
              "\n",
              "    .dataframe thead th {\n",
              "        text-align: right;\n",
              "    }\n",
              "</style>\n",
              "<table border=\"1\" class=\"dataframe\">\n",
              "  <thead>\n",
              "    <tr style=\"text-align: right;\">\n",
              "      <th></th>\n",
              "      <th>id</th>\n",
              "      <th>title</th>\n",
              "      <th>author</th>\n",
              "      <th>text</th>\n",
              "      <th>label</th>\n",
              "    </tr>\n",
              "  </thead>\n",
              "  <tbody>\n",
              "    <tr>\n",
              "      <th>20795</th>\n",
              "      <td>20795</td>\n",
              "      <td>Rapper T.I.: Trump a ’Poster Child For White S...</td>\n",
              "      <td>Jerome Hudson</td>\n",
              "      <td>Rapper T. I. unloaded on black celebrities who...</td>\n",
              "      <td>0</td>\n",
              "    </tr>\n",
              "    <tr>\n",
              "      <th>20796</th>\n",
              "      <td>20796</td>\n",
              "      <td>N.F.L. Playoffs: Schedule, Matchups and Odds -...</td>\n",
              "      <td>Benjamin Hoffman</td>\n",
              "      <td>When the Green Bay Packers lost to the Washing...</td>\n",
              "      <td>0</td>\n",
              "    </tr>\n",
              "    <tr>\n",
              "      <th>20797</th>\n",
              "      <td>20797</td>\n",
              "      <td>Macy’s Is Said to Receive Takeover Approach by...</td>\n",
              "      <td>Michael J. de la Merced and Rachel Abrams</td>\n",
              "      <td>The Macy’s of today grew from the union of sev...</td>\n",
              "      <td>0</td>\n",
              "    </tr>\n",
              "    <tr>\n",
              "      <th>20798</th>\n",
              "      <td>20798</td>\n",
              "      <td>NATO, Russia To Hold Parallel Exercises In Bal...</td>\n",
              "      <td>Alex Ansary</td>\n",
              "      <td>NATO, Russia To Hold Parallel Exercises In Bal...</td>\n",
              "      <td>1</td>\n",
              "    </tr>\n",
              "    <tr>\n",
              "      <th>20799</th>\n",
              "      <td>20799</td>\n",
              "      <td>What Keeps the F-35 Alive</td>\n",
              "      <td>David Swanson</td>\n",
              "      <td>David Swanson is an author, activist, journa...</td>\n",
              "      <td>1</td>\n",
              "    </tr>\n",
              "  </tbody>\n",
              "</table>\n",
              "</div>\n",
              "      <button class=\"colab-df-convert\" onclick=\"convertToInteractive('df-ee91d842-6d22-4583-9dfb-f135823d58b1')\"\n",
              "              title=\"Convert this dataframe to an interactive table.\"\n",
              "              style=\"display:none;\">\n",
              "        \n",
              "  <svg xmlns=\"http://www.w3.org/2000/svg\" height=\"24px\"viewBox=\"0 0 24 24\"\n",
              "       width=\"24px\">\n",
              "    <path d=\"M0 0h24v24H0V0z\" fill=\"none\"/>\n",
              "    <path d=\"M18.56 5.44l.94 2.06.94-2.06 2.06-.94-2.06-.94-.94-2.06-.94 2.06-2.06.94zm-11 1L8.5 8.5l.94-2.06 2.06-.94-2.06-.94L8.5 2.5l-.94 2.06-2.06.94zm10 10l.94 2.06.94-2.06 2.06-.94-2.06-.94-.94-2.06-.94 2.06-2.06.94z\"/><path d=\"M17.41 7.96l-1.37-1.37c-.4-.4-.92-.59-1.43-.59-.52 0-1.04.2-1.43.59L10.3 9.45l-7.72 7.72c-.78.78-.78 2.05 0 2.83L4 21.41c.39.39.9.59 1.41.59.51 0 1.02-.2 1.41-.59l7.78-7.78 2.81-2.81c.8-.78.8-2.07 0-2.86zM5.41 20L4 18.59l7.72-7.72 1.47 1.35L5.41 20z\"/>\n",
              "  </svg>\n",
              "      </button>\n",
              "      \n",
              "  <style>\n",
              "    .colab-df-container {\n",
              "      display:flex;\n",
              "      flex-wrap:wrap;\n",
              "      gap: 12px;\n",
              "    }\n",
              "\n",
              "    .colab-df-convert {\n",
              "      background-color: #E8F0FE;\n",
              "      border: none;\n",
              "      border-radius: 50%;\n",
              "      cursor: pointer;\n",
              "      display: none;\n",
              "      fill: #1967D2;\n",
              "      height: 32px;\n",
              "      padding: 0 0 0 0;\n",
              "      width: 32px;\n",
              "    }\n",
              "\n",
              "    .colab-df-convert:hover {\n",
              "      background-color: #E2EBFA;\n",
              "      box-shadow: 0px 1px 2px rgba(60, 64, 67, 0.3), 0px 1px 3px 1px rgba(60, 64, 67, 0.15);\n",
              "      fill: #174EA6;\n",
              "    }\n",
              "\n",
              "    [theme=dark] .colab-df-convert {\n",
              "      background-color: #3B4455;\n",
              "      fill: #D2E3FC;\n",
              "    }\n",
              "\n",
              "    [theme=dark] .colab-df-convert:hover {\n",
              "      background-color: #434B5C;\n",
              "      box-shadow: 0px 1px 3px 1px rgba(0, 0, 0, 0.15);\n",
              "      filter: drop-shadow(0px 1px 2px rgba(0, 0, 0, 0.3));\n",
              "      fill: #FFFFFF;\n",
              "    }\n",
              "  </style>\n",
              "\n",
              "      <script>\n",
              "        const buttonEl =\n",
              "          document.querySelector('#df-ee91d842-6d22-4583-9dfb-f135823d58b1 button.colab-df-convert');\n",
              "        buttonEl.style.display =\n",
              "          google.colab.kernel.accessAllowed ? 'block' : 'none';\n",
              "\n",
              "        async function convertToInteractive(key) {\n",
              "          const element = document.querySelector('#df-ee91d842-6d22-4583-9dfb-f135823d58b1');\n",
              "          const dataTable =\n",
              "            await google.colab.kernel.invokeFunction('convertToInteractive',\n",
              "                                                     [key], {});\n",
              "          if (!dataTable) return;\n",
              "\n",
              "          const docLinkHtml = 'Like what you see? Visit the ' +\n",
              "            '<a target=\"_blank\" href=https://colab.research.google.com/notebooks/data_table.ipynb>data table notebook</a>'\n",
              "            + ' to learn more about interactive tables.';\n",
              "          element.innerHTML = '';\n",
              "          dataTable['output_type'] = 'display_data';\n",
              "          await google.colab.output.renderOutput(dataTable, element);\n",
              "          const docLink = document.createElement('div');\n",
              "          docLink.innerHTML = docLinkHtml;\n",
              "          element.appendChild(docLink);\n",
              "        }\n",
              "      </script>\n",
              "    </div>\n",
              "  </div>\n",
              "  "
            ],
            "text/plain": [
              "          id  ... label\n",
              "20795  20795  ...     0\n",
              "20796  20796  ...     0\n",
              "20797  20797  ...     0\n",
              "20798  20798  ...     1\n",
              "20799  20799  ...     1\n",
              "\n",
              "[5 rows x 5 columns]"
            ]
          },
          "metadata": {},
          "execution_count": 28
        }
      ]
    },
    {
      "cell_type": "code",
      "source": [
        "# проверяем есть ли пропущенные значения в некоторых ячейках\n",
        "print(train.isna().sum())\n",
        "print()\n",
        "print(test.isna().sum())"
      ],
      "metadata": {
        "id": "wKEgrDGPhBRd",
        "outputId": "91937a64-aa1f-48a4-9ee4-a6c5572b7e0f",
        "colab": {
          "base_uri": "https://localhost:8080/"
        }
      },
      "execution_count": 29,
      "outputs": [
        {
          "output_type": "stream",
          "name": "stdout",
          "text": [
            "id           0\n",
            "title      558\n",
            "author    1957\n",
            "text        39\n",
            "label        0\n",
            "dtype: int64\n",
            "\n",
            "id          0\n",
            "title     122\n",
            "author    503\n",
            "text        7\n",
            "dtype: int64\n"
          ]
        }
      ]
    },
    {
      "cell_type": "code",
      "source": [
        "# заполняем пропущенные значения пустыми строками\n",
        "train = train.fillna('')\n",
        "test = test.fillna('')"
      ],
      "metadata": {
        "id": "a6wiAu7VhJ0x"
      },
      "execution_count": 30,
      "outputs": []
    },
    {
      "cell_type": "code",
      "source": [
        "train.info()"
      ],
      "metadata": {
        "id": "Qxkc8E9rZtZH",
        "outputId": "c6e082f8-bf2f-47fa-c200-2c346c296b05",
        "colab": {
          "base_uri": "https://localhost:8080/"
        }
      },
      "execution_count": 31,
      "outputs": [
        {
          "output_type": "stream",
          "name": "stdout",
          "text": [
            "<class 'pandas.core.frame.DataFrame'>\n",
            "RangeIndex: 20800 entries, 0 to 20799\n",
            "Data columns (total 5 columns):\n",
            " #   Column  Non-Null Count  Dtype \n",
            "---  ------  --------------  ----- \n",
            " 0   id      20800 non-null  int64 \n",
            " 1   title   20800 non-null  object\n",
            " 2   author  20800 non-null  object\n",
            " 3   text    20800 non-null  object\n",
            " 4   label   20800 non-null  int64 \n",
            "dtypes: int64(2), object(3)\n",
            "memory usage: 812.6+ KB\n"
          ]
        }
      ]
    },
    {
      "cell_type": "code",
      "source": [
        "# проверка на наличие дубликатов\n",
        "print('train: ', train.duplicated().sum())\n",
        "print('test: ', test.duplicated().sum())"
      ],
      "metadata": {
        "id": "ucfcpgaXj6Kr",
        "outputId": "fa5c7489-049c-4fc6-acd5-97767c1de98b",
        "colab": {
          "base_uri": "https://localhost:8080/"
        }
      },
      "execution_count": 32,
      "outputs": [
        {
          "output_type": "stream",
          "name": "stdout",
          "text": [
            "train:  0\n",
            "test:  0\n"
          ]
        }
      ]
    },
    {
      "cell_type": "markdown",
      "source": [
        "Распределение по классам на реальные и фейковые статьи сбалансировано."
      ],
      "metadata": {
        "id": "BPpeHutqdoVI"
      }
    },
    {
      "cell_type": "code",
      "source": [
        "plt.figure(figsize=(14, 7))\n",
        "sns.countplot(train['label'])"
      ],
      "metadata": {
        "id": "_rggyQg2gBtp",
        "outputId": "01df548c-6121-4021-fc2d-ab6025c854cb",
        "colab": {
          "base_uri": "https://localhost:8080/",
          "height": 514
        }
      },
      "execution_count": 33,
      "outputs": [
        {
          "output_type": "stream",
          "name": "stderr",
          "text": [
            "/usr/local/lib/python3.7/dist-packages/seaborn/_decorators.py:43: FutureWarning: Pass the following variable as a keyword arg: x. From version 0.12, the only valid positional argument will be `data`, and passing other arguments without an explicit keyword will result in an error or misinterpretation.\n",
            "  FutureWarning\n"
          ]
        },
        {
          "output_type": "execute_result",
          "data": {
            "text/plain": [
              "<matplotlib.axes._subplots.AxesSubplot at 0x7f0d5bd1c810>"
            ]
          },
          "metadata": {},
          "execution_count": 33
        },
        {
          "output_type": "display_data",
          "data": {
            "image/png": "[encoded data removed]",
            "text/plain": [
              "<Figure size 1008x504 with 1 Axes>"
            ]
          },
          "metadata": {
            "needs_background": "light"
          }
        }
      ]
    },
    {
      "cell_type": "code",
      "source": [
        "# Создаем новый столбец content путем объединения столбцов title и author\n",
        "train['total'] = train['title'] + ' ' + train['author']\n",
        "test['total'] = test['title'] + ' ' + test['author']"
      ],
      "metadata": {
        "id": "oyYOadqcxjIU"
      },
      "execution_count": 35,
      "outputs": []
    },
    {
      "cell_type": "markdown",
      "source": [
        "### Предобработка текста"
      ],
      "metadata": {
        "id": "c6wb_oFFkyNK"
      }
    },
    {
      "cell_type": "markdown",
      "source": [
        "Перед тем, как обучить нашу модель машинного обучения, необходимо провести предообработку текста."
      ],
      "metadata": {
        "id": "69Xk9FcysXKW"
      }
    },
    {
      "cell_type": "code",
      "source": [
        "import nltk\n",
        "from nltk.corpus import stopwords\n",
        "from nltk.stem.porter import PorterStemmer\n",
        "import string\n",
        "\n",
        "nltk.download('stopwords')\n",
        "stopwords_en = stopwords.words('english')\n",
        "ps = PorterStemmer()"
      ],
      "metadata": {
        "id": "HiUQCN2dvoBW",
        "outputId": "8b3af647-ee34-42a1-dfda-552480475156",
        "colab": {
          "base_uri": "https://localhost:8080/"
        }
      },
      "execution_count": 36,
      "outputs": [
        {
          "output_type": "stream",
          "name": "stdout",
          "text": [
            "[nltk_data] Downloading package stopwords to /root/nltk_data...\n",
            "[nltk_data]   Package stopwords is already up-to-date!\n"
          ]
        }
      ]
    },
    {
      "cell_type": "code",
      "source": [
        "def preprocess_text(text):\n",
        "    \"\"\"Предобработка текста.\n",
        "    \n",
        "    Убирает пунктуационные символы, приводит к нижнему регистру, \n",
        "    разбивает предложение по словам, убирает стопслова, \n",
        "    проводит стемминг для каждого слова\n",
        "    \"\"\"\n",
        "    clean_text = re.sub('[^a-zA-Z]', ' ', text)\n",
        "    clean_text = clean_text.lower()\n",
        "    clean_text = clean_text.split()\n",
        "    clean_text = [ps.stem(word) for word in clean_text if not word in stopwords_en]\n",
        "    clean_text = ' '.join(clean_text)\n",
        "\n",
        "    return clean_text\n",
        "\n",
        "\n",
        "train['total'] = train['total'].apply(preprocess_text)\n",
        "test['total'] = test['total'].apply(preprocess_text)"
      ],
      "metadata": {
        "id": "Eb-CB_FXbDFl"
      },
      "execution_count": 37,
      "outputs": []
    },
    {
      "cell_type": "code",
      "source": [
        "train['total']"
      ],
      "metadata": {
        "id": "ZW5dxuEk6YpI",
        "outputId": "419bfbbf-96cd-45bc-9b4b-335613ace9a0",
        "colab": {
          "base_uri": "https://localhost:8080/"
        }
      },
      "execution_count": 38,
      "outputs": [
        {
          "output_type": "execute_result",
          "data": {
            "text/plain": [
              "0        hous dem aid even see comey letter jason chaff...\n",
              "1        flynn hillari clinton big woman campu breitbar...\n",
              "2                   truth might get fire consortiumnew com\n",
              "3        civilian kill singl us airstrik identifi jessi...\n",
              "4        iranian woman jail fiction unpublish stori wom...\n",
              "                               ...                        \n",
              "20795    rapper trump poster child white supremaci jero...\n",
              "20796    n f l playoff schedul matchup odd new york tim...\n",
              "20797    maci said receiv takeov approach hudson bay ne...\n",
              "20798    nato russia hold parallel exercis balkan alex ...\n",
              "20799                            keep f aliv david swanson\n",
              "Name: total, Length: 20800, dtype: object"
            ]
          },
          "metadata": {},
          "execution_count": 38
        }
      ]
    },
    {
      "cell_type": "code",
      "source": [
        "# разделим тренировочный датасет на признаки и метки \n",
        "X = train['total'].values\n",
        "y = train['label'].values"
      ],
      "metadata": {
        "id": "YvClNr_M8jbI"
      },
      "execution_count": 39,
      "outputs": []
    },
    {
      "cell_type": "markdown",
      "source": [
        "### Обработка текста.\n",
        "После того, как мы получили в прошлом шаге чистые данные, проведем обработку данных, выбрав подходящее представление данных. "
      ],
      "metadata": {
        "id": "BruepnQ7-QbW"
      }
    },
    {
      "cell_type": "code",
      "source": [
        "# создадим общий корпус из тренировочного и тестового датасетов\n",
        "# corpus = np.concatenate((X_train, X_test))\n",
        "# print('corpus shape: {}'.format(corpus.shape))"
      ],
      "metadata": {
        "id": "PAwDoQliLhD6"
      },
      "execution_count": 40,
      "outputs": []
    },
    {
      "cell_type": "markdown",
      "source": [
        "Приведем наш корпус в векторное представление, используя one-hot encoding. Построим словарь для всего корпуса и каждому предложению будем отображать одномерный массив длиной размера словаря. Этот массив будет содержать количество вхождений слова в предложении. Эта модель называется \"Мешком слов\" (Bag of Words)."
      ],
      "metadata": {
        "id": "JwbR5iq3NZB3"
      }
    },
    {
      "cell_type": "code",
      "source": [
        "# определим словарь и длины предложений\n",
        "VOCAB = set()\n",
        "sentence_lengths = []\n",
        "for sentence in X:\n",
        "    sentence_lengths.append(len(sentence))\n",
        "    for word in sentence.split():\n",
        "        VOCAB.add(word)\n",
        "print('Размер словаря: {}'.format(len(VOCAB)))\n",
        "print('Максимальная длина предложения: {}'.format(max(sentence_lengths)))"
      ],
      "metadata": {
        "id": "OWeremqg8v0l",
        "outputId": "46bd7b34-b688-4dac-ccfa-3a2ecf4d61c0",
        "colab": {
          "base_uri": "https://localhost:8080/"
        }
      },
      "execution_count": 42,
      "outputs": [
        {
          "output_type": "stream",
          "name": "stdout",
          "text": [
            "Размер словаря: 17146\n",
            "Максимальная длина предложения: 330\n"
          ]
        }
      ]
    },
    {
      "cell_type": "code",
      "source": [
        "plt.figure(figsize=(14, 7))\n",
        "plt.hist(sentence_lengths)\n",
        "plt.xlabel('Длина предложения')\n",
        "plt.ylabel('Количество предложений')"
      ],
      "metadata": {
        "id": "DFcJ-TU59vQN",
        "outputId": "3191948a-ca6b-4400-fa55-0bad647571fa",
        "colab": {
          "base_uri": "https://localhost:8080/",
          "height": 462
        }
      },
      "execution_count": 43,
      "outputs": [
        {
          "output_type": "execute_result",
          "data": {
            "text/plain": [
              "Text(0, 0.5, 'Количество предложений')"
            ]
          },
          "metadata": {},
          "execution_count": 43
        },
        {
          "output_type": "display_data",
          "data": {
            "image/png": "[encoded data removed]",
            "text/plain": [
              "<Figure size 1008x504 with 1 Axes>"
            ]
          },
          "metadata": {
            "needs_background": "light"
          }
        }
      ]
    },
    {
      "cell_type": "markdown",
      "source": [
        "Максимальная длина предложения равна 330 и большинство предложений состоят из 40-100 слов, а размер словаря составляет 17146 слов. Получается что для каждого предложения соответствующий массив будет преимущественно состоять из нулей, поэтому используются разреженные матрицы (sparse matrix), состоящие из индексов матрицы и значений в этих индексах.\n"
      ],
      "metadata": {
        "id": "uNQ8BvV8Mh6_"
      }
    },
    {
      "cell_type": "code",
      "source": [
        "from sklearn.feature_extraction.text import CountVectorizer\n",
        "\n",
        "count_vectorizer = CountVectorizer()\n",
        "# стоим разреженную матрицу BoW для всего корпуса размером\n",
        "# (кол-во_предложений, размер_словаря)\n",
        "\n",
        "X_count = count_vectorizer.fit_transform(X)"
      ],
      "metadata": {
        "id": "U6hKpfMnJrkz"
      },
      "execution_count": 44,
      "outputs": []
    },
    {
      "cell_type": "code",
      "source": [
        "X_count"
      ],
      "metadata": {
        "id": "OM7iJ494S6da",
        "outputId": "1e12c393-348c-4ff6-fcec-813d6ce7636c",
        "colab": {
          "base_uri": "https://localhost:8080/"
        }
      },
      "execution_count": 45,
      "outputs": [
        {
          "output_type": "execute_result",
          "data": {
            "text/plain": [
              "<20800x17128 sparse matrix of type '<class 'numpy.int64'>'\n",
              "\twith 210687 stored elements in Compressed Sparse Row format>"
            ]
          },
          "metadata": {},
          "execution_count": 45
        }
      ]
    },
    {
      "cell_type": "markdown",
      "source": [
        "Визуализируем векторные представления, чтобы посмотреть, насколько хорошо видны отличия между классами. Для визуализации используем метод главных компонент PCA."
      ],
      "metadata": {
        "id": "qnKUhXOyGXbB"
      }
    },
    {
      "cell_type": "code",
      "source": [
        "from sklearn.decomposition import PCA, TruncatedSVD\n",
        "import matplotlib\n",
        "import matplotlib.patches as mpatches\n",
        "\n",
        "\n",
        "def plot_LSA(test_data, test_labels, savepath=\"PCA_demo.csv\", plot=True):\n",
        "        lsa = TruncatedSVD(n_components=2)\n",
        "        lsa.fit(test_data)\n",
        "        lsa_scores = lsa.transform(test_data)\n",
        "        color_mapper = {label:idx for idx,label in enumerate(set(test_labels))}\n",
        "        color_column = [color_mapper[label] for label in test_labels]\n",
        "        colors = ['orange','blue','blue']\n",
        "        if plot:\n",
        "            plt.scatter(lsa_scores[:,0], lsa_scores[:,1], s=8, alpha=.8, c=test_labels, cmap=matplotlib.colors.ListedColormap(colors))\n",
        "            red_patch = mpatches.Patch(color='orange', label='Real')\n",
        "            green_patch = mpatches.Patch(color='blue', label='Fake')\n",
        "            plt.legend(handles=[red_patch, green_patch], prop={'size': 30})\n",
        "\n",
        "\n",
        "fig = plt.figure(figsize=(16, 9))          \n",
        "plot_LSA(X_count, y)\n",
        "plt.show()"
      ],
      "metadata": {
        "id": "de9uMyc-S7qU",
        "outputId": "61feac6e-e1c9-4658-aa5c-b4400a079fc0",
        "colab": {
          "base_uri": "https://localhost:8080/",
          "height": 537
        }
      },
      "execution_count": 47,
      "outputs": [
        {
          "output_type": "display_data",
          "data": {
            "image/png": "[encoded data removed]",
            "text/plain": [
              "<Figure size 1152x648 with 1 Axes>"
            ]
          },
          "metadata": {
            "needs_background": "light"
          }
        }
      ]
    },
    {
      "cell_type": "markdown",
      "source": [
        "Из графика видно, что часть реальных новостей могут быть классифицированы как фейковые. Это может отражать реальную картину или может быть связано с уменьшением размерности с помощью PCA."
      ],
      "metadata": {
        "id": "iJSvZYAWGvQI"
      }
    },
    {
      "cell_type": "code",
      "source": [
        "# разделяем на тренировочный и тестовый датасет\n",
        "X_train_count, X_test_count, y_train, y_test = train_test_split(X_count, y, test_size=0.25, \n",
        "                                                    random_state=42)"
      ],
      "metadata": {
        "id": "7t9v8Q3xCtgV"
      },
      "execution_count": 51,
      "outputs": []
    },
    {
      "cell_type": "markdown",
      "source": [
        "### Создание модели"
      ],
      "metadata": {
        "id": "FozYOUs4DF_4"
      }
    },
    {
      "cell_type": "markdown",
      "source": [
        "Для начала создаем модель логистической регрессии, так как для бинарной классификации данная модель легко обучается и является простой в интерпретации результатов."
      ],
      "metadata": {
        "id": "GCVaFj7fH_1U"
      }
    },
    {
      "cell_type": "code",
      "source": [
        "from sklearn.metrics import classification_report\n",
        "from sklearn.metrics import confusion_matrix\n",
        "from sklearn.metrics import accuracy_score"
      ],
      "metadata": {
        "id": "7FZf5n1BJH58"
      },
      "execution_count": 58,
      "outputs": []
    },
    {
      "cell_type": "code",
      "source": [
        "lg_model = LogisticRegression(random_state=42)\n",
        "lg_model.fit(X_train_count, y_train)"
      ],
      "metadata": {
        "id": "-WdmpOGpDZlD",
        "outputId": "357d19aa-d864-4a9a-93eb-e905dbc12038",
        "colab": {
          "base_uri": "https://localhost:8080/"
        }
      },
      "execution_count": 55,
      "outputs": [
        {
          "output_type": "execute_result",
          "data": {
            "text/plain": [
              "LogisticRegression(random_state=42)"
            ]
          },
          "metadata": {},
          "execution_count": 55
        }
      ]
    },
    {
      "cell_type": "code",
      "source": [
        "# рассмотрим следующие метрики:\n",
        "# precision, recall, accuracy, f1\n",
        "def get_metrics(y_test, y_predict):\n",
        "\n",
        "    precision = sum\n",
        "    recall = \n",
        "    accuracy = abs(sum(y_test - y_predict)) / len(y_test)\n",
        "    f1 = "
      ],
      "metadata": {
        "id": "VOMnInM5LBAu"
      },
      "execution_count": null,
      "outputs": []
    },
    {
      "cell_type": "code",
      "source": [
        "X_test_count_predict = lg_model.predict(X_test_count)\n",
        "\n",
        "print('Accuracy on test set: {:.4f}%'.format(accuracy_score(X_test_count_predict, y_test) * 100))"
      ],
      "metadata": {
        "id": "PbPFEf3ood1B",
        "outputId": "7cc18403-7c2e-48f2-9ea7-a27fdc4eb5bf",
        "colab": {
          "base_uri": "https://localhost:8080/"
        }
      },
      "execution_count": 60,
      "outputs": [
        {
          "output_type": "stream",
          "name": "stdout",
          "text": [
            "Accuracy on test set: 98.7500%\n"
          ]
        }
      ]
    },
    {
      "cell_type": "code",
      "source": [
        "X_train_count_predict = lg_model.predict(X_train_count)\n",
        "\n",
        "print('Accuracy on train set: {:.4f}%'.format(accuracy_score(X_train_count_predict, y_train) * 100))"
      ],
      "metadata": {
        "id": "JaFRrYvGJZMw",
        "outputId": "25caeb91-b468-4c57-d746-7c3bcdd0e233",
        "colab": {
          "base_uri": "https://localhost:8080/"
        }
      },
      "execution_count": 61,
      "outputs": [
        {
          "output_type": "stream",
          "name": "stdout",
          "text": [
            "Accuracy on train set: 99.8910%\n"
          ]
        }
      ]
    },
    {
      "cell_type": "markdown",
      "source": [
        "Посмотрим, какие именно ошибки совершает наша модель. Для этого построим матрицу ошибок (confusion matrix), которая показывает для бинарной классификации\n",
        "ложно-положительные и ложно-отрицательные ошибки модели. С помощью матрицы можно понять, сможем ли мы проигнорировать данные ошибки в соответсвии поставленным приоритетам."
      ],
      "metadata": {
        "id": "QrcJ41aDKOhe"
      }
    },
    {
      "cell_type": "code",
      "source": [
        ""
      ],
      "metadata": {
        "id": "b1P1XNjXK78z"
      },
      "execution_count": null,
      "outputs": []
    },
    {
      "cell_type": "markdown",
      "source": [
        "Для модели логистической регрессии получили точность 98.75%, что уже неплохо, но для полноты эксперимента рассмотрим другие модели машинного обучения."
      ],
      "metadata": {
        "id": "EyWbCNL1JogV"
      }
    },
    {
      "cell_type": "markdown",
      "source": [
        ""
      ],
      "metadata": {
        "id": "NH5gZerdKN7K"
      }
    },
    {
      "cell_type": "code",
      "source": [
        ""
      ],
      "metadata": {
        "id": "pebxBSh7Jn-7"
      },
      "execution_count": null,
      "outputs": []
    },
    {
      "cell_type": "code",
      "source": [
        "nb_model = "
      ],
      "metadata": {
        "id": "DI4RjIDenyiO"
      },
      "execution_count": null,
      "outputs": []
    },
    {
      "cell_type": "markdown",
      "source": [
        " Поверх Bag of Words будем использовать TF-IDF (Term Frequency, Inverse Document Frequency). После того, как мы сформировали словарь и построили эмбеддинги для каждого предложения, мы понимаем, что некоторые слова встречаются практически в каждом предложении, тем самым, добавляя шум. Поэтому следует различать слова по их вкладу в информационную ценность предложения. Поэтому поверх нашего мешка слов добавим механизм TF-IDF (Term Frequency – Inverse Document Frequency). Этот механизм определяет количество вхождений слова в заданном корпусе и нормализует частоту лексем с учетом содержимого в остальном корпусе. Скоринг TF-IDF растет пропорционально частоте появления слова в корпусе, но это компенсируется количеством документов, содержащих это слово. "
      ],
      "metadata": {
        "id": "e3kNZKVqVsp9"
      }
    },
    {
      "cell_type": "code",
      "source": [
        "from sklearn.feature_extraction.text import TfidfVectorizer\n",
        "\n",
        "\n",
        "tfidf = TfidfVectorizer()\n",
        "tfidf.fit(corpus)\n",
        "\n",
        "X_train_tfidf = tfidf.transform(X_train)\n",
        "X_test_tfidf = tfidf.transform(X_test)"
      ],
      "metadata": {
        "id": "SHByqWDUT9gt"
      },
      "execution_count": null,
      "outputs": []
    },
    {
      "cell_type": "code",
      "source": [
        "X_train_tfidf"
      ],
      "metadata": {
        "id": "VDjBiLMiT9jI"
      },
      "execution_count": null,
      "outputs": []
    },
    {
      "cell_type": "code",
      "source": [
        "X_test_tfidf"
      ],
      "metadata": {
        "id": "KJa9ARzaT9lY"
      },
      "execution_count": null,
      "outputs": []
    },
    {
      "cell_type": "code",
      "source": [
        "fig = plt.figure(figsize=(16, 9))          \n",
        "plot_LSA(X_train_tfidf, y_train)\n",
        "plt.show()"
      ],
      "metadata": {
        "id": "VKgfewU2S7ss"
      },
      "execution_count": null,
      "outputs": []
    },
    {
      "cell_type": "markdown",
      "source": [
        "from sklearn.linear_model import LogisticRegression\n",
        "doc_clf = LogisticRegression(solver = 'lbfgs', \n",
        "                             max_iter = 500, multi_class = 'auto')\n",
        "%time doc_clf.fit(x_train, y_train)\n",
        "score_test = doc_clf.score(x_test, y_test)\n",
        "print('Оценка точности классификации: {}%'.format(round(score_test * 100, 4)))\n",
        "\n",
        "score_train = doc_clf.score(x_train, y_train)\n",
        "print('Точность классификации на тренировочном множестве: {}%'.format(round(score_train * 100, 4)))\n",
        "\n",
        "from sklearn.metrics import classification_report\n",
        "\n",
        "predict = doc_clf.predict(x_test)\n",
        "print(classification_report(y_test, predict, digits=4))"
      ],
      "metadata": {
        "id": "SHjmX4a1W2t-"
      }
    },
    {
      "cell_type": "code",
      "source": [
        ""
      ],
      "metadata": {
        "id": "VU2Tyu7KWi7D"
      },
      "execution_count": null,
      "outputs": []
    },
    {
      "cell_type": "code",
      "source": [
        "nb_classifier = MultinomialNB(alpha=0.1)\n",
        "nb_classifier.fit(X_train_vect, y_train)\n",
        "nb_predict = nb_classifier.predict(X_test)\n",
        "nb_acc = metrics.accuracy_score(y_test, nb_predict)\n",
        "print('Точность Naive Bayes: {:.4f}'.format(nb_acc))"
      ],
      "metadata": {
        "id": "7q94xg-tzPWU"
      },
      "execution_count": null,
      "outputs": []
    },
    {
      "cell_type": "code",
      "source": [
        ""
      ],
      "metadata": {
        "id": "AxN2q95VzPZ8"
      },
      "execution_count": null,
      "outputs": []
    },
    {
      "cell_type": "code",
      "source": [
        ""
      ],
      "metadata": {
        "id": "BU20Fu0YzPch"
      },
      "execution_count": null,
      "outputs": []
    }
  ]
}